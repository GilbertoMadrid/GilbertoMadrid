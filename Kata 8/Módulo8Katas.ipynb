{
 "cells": [
  {
   "cell_type": "code",
   "execution_count": 5,
   "metadata": {},
   "outputs": [
    {
     "name": "stdout",
     "output_type": "stream",
     "text": [
      "nombre: Mars\n",
      "lunas: 2\n",
      "nombre: Mars\n",
      "lunas: 2\n",
      "{'name': 'Mars', 'moons': 2, 'circunferencia (km)': {'polar': 6752, 'equatorial': 6792}}\n"
     ]
    }
   ],
   "source": [
    "planetas = {\n",
    "\n",
    "    'name': 'Mars',\n",
    "    'moons': 2\n",
    "\n",
    "}\n",
    "\n",
    "print('nombre: ' + planetas.get('name'))\n",
    "print('lunas: ' + str(planetas.get('moons')))\n",
    "\n",
    "print('nombre: ' + planetas['name'])\n",
    "print('lunas: ' + str(planetas['moons']))\n",
    "\n",
    "planetas['circunferencia (km)'] = {\n",
    "    'polar': 6752,\n",
    "    'equatorial': 6792\n",
    "}\n",
    "\n",
    "print(str(planetas))"
   ]
  },
  {
   "cell_type": "code",
   "execution_count": 6,
   "metadata": {},
   "outputs": [
    {
     "name": "stdout",
     "output_type": "stream",
     "text": [
      "Total de lunas: 214\n"
     ]
    }
   ],
   "source": [
    "planet_moons = {\n",
    "    'mercury': 0,\n",
    "    'venus': 0,\n",
    "    'earth': 1,\n",
    "    'mars': 2,\n",
    "    'jupiter': 79,\n",
    "    'saturn': 82,\n",
    "    'uranus': 27,\n",
    "    'neptune': 14,\n",
    "    'pluto': 5,\n",
    "    'haumea': 2,\n",
    "    'makemake': 1,\n",
    "    'eris': 1\n",
    "}\n",
    "\n",
    "total_lunas = 0\n",
    "\n",
    "for llave in planet_moons.keys():\n",
    "    total_lunas = total_lunas + planet_moons[llave]\n",
    "\n",
    "print('Total de lunas: ' + str(total_lunas))"
   ]
  }
 ],
 "metadata": {
  "interpreter": {
   "hash": "6d0a709fe9eae1fd62440a5557827ff738fafe474749b57173b03fa469251ab5"
  },
  "kernelspec": {
   "display_name": "Python 3.10.2 64-bit",
   "language": "python",
   "name": "python3"
  },
  "language_info": {
   "codemirror_mode": {
    "name": "ipython",
    "version": 3
   },
   "file_extension": ".py",
   "mimetype": "text/x-python",
   "name": "python",
   "nbconvert_exporter": "python",
   "pygments_lexer": "ipython3",
   "version": "3.10.2"
  },
  "orig_nbformat": 4
 },
 "nbformat": 4,
 "nbformat_minor": 2
}
