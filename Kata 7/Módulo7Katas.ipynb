{
 "cells": [
  {
   "cell_type": "code",
   "execution_count": 5,
   "metadata": {},
   "outputs": [
    {
     "name": "stdout",
     "output_type": "stream",
     "text": [
      "Los planetas son: ['hola']\n"
     ]
    }
   ],
   "source": [
    "nuevo_planeta = ''\n",
    "planetas = []\n",
    "\n",
    "while nuevo_planeta!='done':\n",
    "    nuevo_planeta = input('Escriba el nombre del planeta a agregar:')\n",
    "    if nuevo_planeta != 'done':\n",
    "        planetas.append(nuevo_planeta)\n",
    "\n",
    "print('Los planetas son: ' + str(planetas)\n",
    ")\n"
   ]
  },
  {
   "cell_type": "code",
   "execution_count": 6,
   "metadata": {},
   "outputs": [
    {
     "name": "stdout",
     "output_type": "stream",
     "text": [
      "El nombre del planeta es: Mercurio\n",
      "El nombre del planeta es: Venus\n",
      "El nombre del planeta es: Tierra\n",
      "El nombre del planeta es: Marte\n",
      "El nombre del planeta es: Jupiter\n",
      "El nombre del planeta es: Saturno\n",
      "El nombre del planeta es: Urano\n",
      "El nombre del planeta es: Neptuno\n"
     ]
    }
   ],
   "source": [
    "planeta = ''\n",
    "planetas = ['Mercurio','Venus','Tierra','Marte','Jupiter', 'Saturno', 'Urano','Neptuno']\n",
    "\n",
    "for planeta in planetas:\n",
    "    print('El nombre del planeta es: ' + str(planeta))"
   ]
  }
 ],
 "metadata": {
  "interpreter": {
   "hash": "6d0a709fe9eae1fd62440a5557827ff738fafe474749b57173b03fa469251ab5"
  },
  "kernelspec": {
   "display_name": "Python 3.10.2 64-bit",
   "language": "python",
   "name": "python3"
  },
  "language_info": {
   "codemirror_mode": {
    "name": "ipython",
    "version": 3
   },
   "file_extension": ".py",
   "mimetype": "text/x-python",
   "name": "python",
   "nbconvert_exporter": "python",
   "pygments_lexer": "ipython3",
   "version": "3.10.2"
  },
  "orig_nbformat": 4
 },
 "nbformat": 4,
 "nbformat_minor": 2
}
