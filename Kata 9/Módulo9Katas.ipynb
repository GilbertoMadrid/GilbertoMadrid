{
 "cells": [
  {
   "cell_type": "code",
   "execution_count": 6,
   "metadata": {},
   "outputs": [
    {
     "name": "stdout",
     "output_type": "stream",
     "text": [
      "promedio : 20.0\n"
     ]
    }
   ],
   "source": [
    "def lectura_combustible(lectura1, lectura2, lectura3):\n",
    "    print('promedio : ' + promedio(lectura1, lectura2, lectura3))\n",
    "\n",
    "def promedio(lectura1, lectura2, lectura3):\n",
    "\n",
    "    return str((lectura1 + lectura2 + lectura3) / 3)\n",
    "\n",
    "lectura_combustible(10, 20, 30)\n",
    "    "
   ]
  },
  {
   "cell_type": "code",
   "execution_count": 17,
   "metadata": {},
   "outputs": [
    {
     "name": "stdout",
     "output_type": "stream",
     "text": [
      "\n",
      "    Destino de la mision: Luna\n",
      "    Tiempo de viaje: 112 minutos\n",
      "    Combustible: 801361\n",
      "    tanque Interno  --> 135487 gallons left\n",
      "tanque Externo  --> 665874 gallons left\n",
      "\n"
     ]
    }
   ],
   "source": [
    "def reporte(destino, *minutos, **compustible):\n",
    "    detalleReporte = f\"\"\"\n",
    "    Destino de la mision: {destino}\n",
    "    Tiempo de viaje: {sum(minutos)} minutos\n",
    "    Combustible: {sum(compustible.values())}\n",
    "    \"\"\"\n",
    "    for tanque, galon in compustible.items():\n",
    "        detalleReporte += f\"tanque {tanque}  --> {galon} gallons left\\n\"\n",
    "    return detalleReporte\n",
    "\n",
    "print(reporte(\"Luna\", 12, 33, 67, Interno=135487, Externo=665874))"
   ]
  }
 ],
 "metadata": {
  "interpreter": {
   "hash": "6d0a709fe9eae1fd62440a5557827ff738fafe474749b57173b03fa469251ab5"
  },
  "kernelspec": {
   "display_name": "Python 3.10.2 64-bit",
   "language": "python",
   "name": "python3"
  },
  "language_info": {
   "codemirror_mode": {
    "name": "ipython",
    "version": 3
   },
   "file_extension": ".py",
   "mimetype": "text/x-python",
   "name": "python",
   "nbconvert_exporter": "python",
   "pygments_lexer": "ipython3",
   "version": "3.10.2"
  },
  "orig_nbformat": 4
 },
 "nbformat": 4,
 "nbformat_minor": 2
}
