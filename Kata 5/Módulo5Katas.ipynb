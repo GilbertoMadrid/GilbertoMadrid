{
 "cells": [
  {
   "cell_type": "code",
   "execution_count": 2,
   "metadata": {},
   "outputs": [
    {
     "name": "stdout",
     "output_type": "stream",
     "text": [
      "628949330\n",
      "390577533.93\n"
     ]
    }
   ],
   "source": [
    "tierra = 149597870\n",
    "jupiter = 778547200\n",
    "\n",
    "distanciaEnKm = jupiter - tierra\n",
    "\n",
    "distanciaEnMillas = distanciaEnKm * 0.621\n",
    "\n",
    "print(distanciaEnKm)\n",
    "print(distanciaEnMillas)"
   ]
  },
  {
   "cell_type": "code",
   "execution_count": 7,
   "metadata": {},
   "outputs": [
    {
     "name": "stdout",
     "output_type": "stream",
     "text": [
      "Tierra 149597870\n",
      "Jupiter 778547200\n",
      "Distancia entre ambos en KM 628949330\n",
      "Distancia entre ambos en Millas 390577533.93\n"
     ]
    }
   ],
   "source": [
    "cadenaDistanciaTierra = input(\"Distancia entre el sol y la tierra\")\n",
    "cadenaDistanciaJupiter = input(\"Distancia entre el sol y jupiter\")\n",
    "\n",
    "print(\"Tierra \" + cadenaDistanciaTierra)\n",
    "print(\"Jupiter \" + cadenaDistanciaJupiter)\n",
    "\n",
    "distanciaTierra = int(cadenaDistanciaTierra)\n",
    "distanciaJupiter = int(cadenaDistanciaJupiter)\n",
    "\n",
    "distanciaEntreAmbos = abs(distanciaTierra - distanciaJupiter)\n",
    "distanciaEntreAmbosMillas = distanciaEntreAmbos * 0.621\n",
    "\n",
    "print(\"Distancia entre ambos en KM \" + str(distanciaEntreAmbos))\n",
    "print(\"Distancia entre ambos en Millas \" + str(distanciaEntreAmbosMillas))"
   ]
  }
 ],
 "metadata": {
  "interpreter": {
   "hash": "6d0a709fe9eae1fd62440a5557827ff738fafe474749b57173b03fa469251ab5"
  },
  "kernelspec": {
   "display_name": "Python 3.10.2 64-bit",
   "language": "python",
   "name": "python3"
  },
  "language_info": {
   "codemirror_mode": {
    "name": "ipython",
    "version": 3
   },
   "file_extension": ".py",
   "mimetype": "text/x-python",
   "name": "python",
   "nbconvert_exporter": "python",
   "pygments_lexer": "ipython3",
   "version": "3.10.2"
  },
  "orig_nbformat": 4
 },
 "nbformat": 4,
 "nbformat_minor": 2
}
