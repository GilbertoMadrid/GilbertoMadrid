{
 "cells": [
  {
   "cell_type": "code",
   "execution_count": 4,
   "metadata": {},
   "outputs": [
    {
     "name": "stdout",
     "output_type": "stream",
     "text": [
      "No se mira el rayo\n"
     ]
    }
   ],
   "source": [
    "velocidad = 49\n",
    "\n",
    "if velocidad > 25:\n",
    "    print(\"Un asteroide esta demasiado cerca!!\")\n",
    "else:\n",
    "    print(\"No hay peligro\")"
   ]
  },
  {
   "cell_type": "code",
   "execution_count": 5,
   "metadata": {},
   "outputs": [
    {
     "name": "stdout",
     "output_type": "stream",
     "text": [
      "No se mira el rayo\n"
     ]
    }
   ],
   "source": [
    "velocidad = 50\n",
    "\n",
    "if velocidad >= 20:\n",
    "    print(\"Miren un rayo por el asteroide\")\n",
    "else:\n",
    "    print(\"No se mira el rayo\")"
   ]
  },
  {
   "cell_type": "code",
   "execution_count": 7,
   "metadata": {},
   "outputs": [
    {
     "name": "stdout",
     "output_type": "stream",
     "text": [
      "Peligro, un asteroide esta cerca\n"
     ]
    }
   ],
   "source": [
    "velocidad = 50\n",
    "tamaño = 30\n",
    "\n",
    "if velocidad > 25 and tamaño > 25:\n",
    "    print(\"Peligro, un asteroide esta cerca\")\n",
    "elif velocidad >= 20:\n",
    "    print(\"Mira un rayo en el cielo\")\n",
    "else:\n",
    "    print(\"no se mira nada\")"
   ]
  }
 ],
 "metadata": {
  "interpreter": {
   "hash": "6d0a709fe9eae1fd62440a5557827ff738fafe474749b57173b03fa469251ab5"
  },
  "kernelspec": {
   "display_name": "Python 3.10.2 64-bit",
   "language": "python",
   "name": "python3"
  },
  "language_info": {
   "codemirror_mode": {
    "name": "ipython",
    "version": 3
   },
   "file_extension": ".py",
   "mimetype": "text/x-python",
   "name": "python",
   "nbconvert_exporter": "python",
   "pygments_lexer": "ipython3",
   "version": "3.10.2"
  },
  "orig_nbformat": 4
 },
 "nbformat": 4,
 "nbformat_minor": 2
}
