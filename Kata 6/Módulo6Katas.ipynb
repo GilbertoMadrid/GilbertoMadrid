{
 "cells": [
  {
   "cell_type": "code",
   "execution_count": 1,
   "metadata": {},
   "outputs": [
    {
     "name": "stdout",
     "output_type": "stream",
     "text": [
      "Pluton es el ultimo planeta y esta en la posicion 9\n"
     ]
    }
   ],
   "source": [
    "planetas = ['Mercurio','Venus','Tierra','Marte','Jupiter','Saturno','Urano','Neptuno','Pluton']\n",
    "\n",
    "indexPluton = planetas.index('Pluton')\n",
    "\n",
    "print(\"Pluton es el ultimo planeta y esta en la posicion \" + str(indexPluton+1))"
   ]
  },
  {
   "cell_type": "code",
   "execution_count": 6,
   "metadata": {},
   "outputs": [
    {
     "name": "stdout",
     "output_type": "stream",
     "text": [
      "El planeta se encuentra en la posicion :6\n",
      "Los planetas mas cercanos al sol que el capturado son :['Mercury', 'Venus', 'Earth', 'Mars', 'Jupiter']\n"
     ]
    }
   ],
   "source": [
    "planets = ['Mercury', 'Venus', 'Earth', 'Mars', 'Jupiter', 'Saturn', 'Neptune']\n",
    "\n",
    "nombrePlaneta = input(\"Escribe el nombre del planeta en ingles (inicia con la primer letra mayuscula):\")\n",
    "\n",
    "indexPluton = planets.index(nombrePlaneta)\n",
    "\n",
    "print(\"El planeta se encuentra en la posicion :\" + str(indexPluton+1))\n",
    "\n",
    "planetsCercanos = planets[0:indexPluton]\n",
    "\n",
    "print(\"Los planetas mas cercanos al sol que el capturado son :\" + str(planetsCercanos))"
   ]
  },
  {
   "cell_type": "code",
   "execution_count": 8,
   "metadata": {},
   "outputs": [
    {
     "name": "stdout",
     "output_type": "stream",
     "text": [
      "El planeta se encuentra en la posicion :3\n",
      "Los planetas mas lejanos al sol que el capturado son :['Mars', 'Jupiter', 'Saturn', 'Neptune']\n"
     ]
    }
   ],
   "source": [
    "planets = ['Mercury', 'Venus', 'Earth', 'Mars', 'Jupiter', 'Saturn', 'Neptune']\n",
    "\n",
    "longitud = len(planets)\n",
    "\n",
    "nombrePlaneta = input(\"Escribe el nombre del planeta en ingles (inicia con la primer letra mayuscula):\")\n",
    "\n",
    "indexPluton = planets.index(nombrePlaneta)\n",
    "\n",
    "print(\"El planeta se encuentra en la posicion :\" + str(indexPluton+1))\n",
    "\n",
    "planetsCercanos = planets[indexPluton+1:longitud]\n",
    "\n",
    "print(\"Los planetas mas lejanos al sol que el capturado son :\" + str(planetsCercanos))"
   ]
  }
 ],
 "metadata": {
  "interpreter": {
   "hash": "6d0a709fe9eae1fd62440a5557827ff738fafe474749b57173b03fa469251ab5"
  },
  "kernelspec": {
   "display_name": "Python 3.10.2 64-bit",
   "language": "python",
   "name": "python3"
  },
  "language_info": {
   "codemirror_mode": {
    "name": "ipython",
    "version": 3
   },
   "file_extension": ".py",
   "mimetype": "text/x-python",
   "name": "python",
   "nbconvert_exporter": "python",
   "pygments_lexer": "ipython3",
   "version": "3.10.2"
  },
  "orig_nbformat": 4
 },
 "nbformat": 4,
 "nbformat_minor": 2
}
